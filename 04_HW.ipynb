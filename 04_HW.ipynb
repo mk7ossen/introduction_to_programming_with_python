{
  "nbformat": 4,
  "nbformat_minor": 0,
  "metadata": {
    "colab": {
      "provenance": [],
      "authorship_tag": "ABX9TyNrbXo/Lyxf2PoNKbco/EIU",
      "include_colab_link": true
    },
    "kernelspec": {
      "name": "python3",
      "display_name": "Python 3"
    },
    "language_info": {
      "name": "python"
    }
  },
  "cells": [
    {
      "cell_type": "markdown",
      "metadata": {
        "id": "view-in-github",
        "colab_type": "text"
      },
      "source": [
        "<a href=\"https://colab.research.google.com/github/mk7ossen/introduction_to_programming_with_python/blob/main/04_HW.ipynb\" target=\"_parent\"><img src=\"https://colab.research.google.com/assets/colab-badge.svg\" alt=\"Open In Colab\"/></a>"
      ]
    },
    {
      "cell_type": "code",
      "execution_count": null,
      "metadata": {
        "colab": {
          "base_uri": "https://localhost:8080/"
        },
        "id": "SngnOXIQv-Qs",
        "outputId": "13ac4efe-8ee7-4bd7-8f8b-60cce98e5d45"
      },
      "outputs": [
        {
          "output_type": "stream",
          "name": "stdout",
          "text": [
            "* \n",
            "* * \n",
            "* * * \n"
          ]
        }
      ],
      "source": [
        "for i in range(3):\n",
        "    for j in range(3):\n",
        "        if i + j <= 4 and i >= j:\n",
        "            print('*', end= \" \")\n",
        "    print()"
      ]
    },
    {
      "cell_type": "code",
      "source": [
        "for i in range(5):\n",
        "    for j in range(3):\n",
        "        if ( (i + j) <= 4 ) and ( i >= j ):\n",
        "            print('*', end= \" \")\n",
        "    print()\n",
        "\n"
      ],
      "metadata": {
        "colab": {
          "base_uri": "https://localhost:8080/"
        },
        "id": "91g-5Lm7wLs6",
        "outputId": "e029e08a-21f7-4d27-abb8-baedb97b0af7"
      },
      "execution_count": null,
      "outputs": [
        {
          "output_type": "stream",
          "name": "stdout",
          "text": [
            "* \n",
            "* * \n",
            "* * * \n",
            "* * \n",
            "* \n"
          ]
        }
      ]
    },
    {
      "cell_type": "code",
      "source": [
        "for i in range(-2, 3):\n",
        "    for j in range(-2, 3):\n",
        "        if (abs(i) + abs(j)) > 2:\n",
        "            print(end=\"   \")\n",
        "        else:\n",
        "            print(' * ', end=\"\")\n",
        "    print()"
      ],
      "metadata": {
        "colab": {
          "base_uri": "https://localhost:8080/"
        },
        "id": "pqDc83hvwXdS",
        "outputId": "b4035352-009d-49a6-9c84-e3742dec644a"
      },
      "execution_count": null,
      "outputs": [
        {
          "output_type": "stream",
          "name": "stdout",
          "text": [
            "       *       \n",
            "    *  *  *    \n",
            " *  *  *  *  * \n",
            "    *  *  *    \n",
            "       *       \n"
          ]
        }
      ]
    },
    {
      "cell_type": "code",
      "source": [
        "for i in range(-2, 3):\n",
        "    for j in range(-2, 3):\n",
        "        if (abs(i) + abs(j)) > 2:\n",
        "            print(end=\"   \")\n",
        "        else:\n",
        "            print(' * ', end=\"\")\n",
        "    print()\n",
        "\n"
      ],
      "metadata": {
        "colab": {
          "base_uri": "https://localhost:8080/"
        },
        "id": "0cRC8nEjo81Q",
        "outputId": "ba7e73e8-7f52-4952-aa2a-92a8df7b021c"
      },
      "execution_count": null,
      "outputs": [
        {
          "output_type": "stream",
          "name": "stdout",
          "text": [
            "       *       \n",
            "    *  *  *    \n",
            " *  *  *  *  * \n",
            "    *  *  *    \n",
            "       *       \n"
          ]
        }
      ]
    }
  ]
}