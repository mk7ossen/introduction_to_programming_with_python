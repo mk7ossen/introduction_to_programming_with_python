{
  "nbformat": 4,
  "nbformat_minor": 0,
  "metadata": {
    "colab": {
      "provenance": [],
      "authorship_tag": "ABX9TyPOE/WJEskIkIeyDhEIwdkS",
      "include_colab_link": true
    },
    "kernelspec": {
      "name": "python3",
      "display_name": "Python 3"
    },
    "language_info": {
      "name": "python"
    }
  },
  "cells": [
    {
      "cell_type": "markdown",
      "metadata": {
        "id": "view-in-github",
        "colab_type": "text"
      },
      "source": [
        "<a href=\"https://colab.research.google.com/github/mk7ossen/introduction_to_programming_with_python/blob/main/06_HW.ipynb\" target=\"_parent\"><img src=\"https://colab.research.google.com/assets/colab-badge.svg\" alt=\"Open In Colab\"/></a>"
      ]
    },
    {
      "cell_type": "code",
      "execution_count": null,
      "metadata": {
        "id": "0jzDTEqTW3L-"
      },
      "outputs": [],
      "source": [
        "def sum_of_series(start,stop,step_size):\n",
        "  sum = 0\n",
        "  for i in range(start,(stop +1),step_size):\n",
        "    num = i\n",
        "    sum = sum + num\n",
        "    # print(f\" i is now {i}\")\n",
        "  print(sum)"
      ]
    },
    {
      "cell_type": "code",
      "source": [
        "sum_of_series(1,100,2)"
      ],
      "metadata": {
        "colab": {
          "base_uri": "https://localhost:8080/"
        },
        "id": "5jnSefrLXGGa",
        "outputId": "38f4fdc1-41c2-4f77-b36b-fd8d0d471d37"
      },
      "execution_count": null,
      "outputs": [
        {
          "output_type": "stream",
          "name": "stdout",
          "text": [
            "2500\n"
          ]
        }
      ]
    },
    {
      "cell_type": "code",
      "source": [
        "# building a function\n",
        "def evenly_divisable(a,b):\n",
        "  if a%b == 0:\n",
        "   print(f\" {a} is evenly divisable by {b}.\")\n",
        "  else:\n",
        "    print(f\"{a} is not evenly divisable by {b}\")\n"
      ],
      "metadata": {
        "id": "hl6RWdLcXGD8"
      },
      "execution_count": null,
      "outputs": []
    },
    {
      "cell_type": "code",
      "source": [
        "evenly_divisable(10,3)"
      ],
      "metadata": {
        "colab": {
          "base_uri": "https://localhost:8080/"
        },
        "id": "zhcQKbtTXRr0",
        "outputId": "e9d0a481-5213-4439-97a0-57f0ffbe421d"
      },
      "execution_count": null,
      "outputs": [
        {
          "output_type": "stream",
          "name": "stdout",
          "text": [
            "10 is not evenly divisable by 3\n"
          ]
        }
      ]
    },
    {
      "cell_type": "code",
      "source": [
        "# factorial n; n! using for loop\n",
        "def factorial(n):\n",
        "  facto = 1\n",
        "  for i in range(1,(n + 1)):\n",
        "    facto = facto * i\n",
        "  return facto"
      ],
      "metadata": {
        "id": "bcx4oTc2XRpk"
      },
      "execution_count": null,
      "outputs": []
    },
    {
      "cell_type": "code",
      "source": [
        "factorial(1)"
      ],
      "metadata": {
        "colab": {
          "base_uri": "https://localhost:8080/"
        },
        "id": "NbiwcSVXXRnb",
        "outputId": "03be2e2e-7b06-4063-a163-28233d5bbc40"
      },
      "execution_count": null,
      "outputs": [
        {
          "output_type": "execute_result",
          "data": {
            "text/plain": [
              "1"
            ]
          },
          "metadata": {},
          "execution_count": 6
        }
      ]
    },
    {
      "cell_type": "code",
      "source": [
        "len(str(factorial(1000)))"
      ],
      "metadata": {
        "colab": {
          "base_uri": "https://localhost:8080/"
        },
        "id": "4-R1DfITXRlM",
        "outputId": "c08c0a9e-0db2-43ce-c251-218fb955e1d0"
      },
      "execution_count": null,
      "outputs": [
        {
          "output_type": "execute_result",
          "data": {
            "text/plain": [
              "2568"
            ]
          },
          "metadata": {},
          "execution_count": 7
        }
      ]
    },
    {
      "cell_type": "code",
      "source": [
        "# factorial n; n! using while\n",
        "def factorial_w(n):\n",
        "  facto = 1\n",
        "  while n >= 1:\n",
        "    facto = facto * n\n",
        "    n = n - 1\n",
        "  return facto"
      ],
      "metadata": {
        "id": "KojPUp89XpvD"
      },
      "execution_count": null,
      "outputs": []
    },
    {
      "cell_type": "code",
      "source": [
        "factorial_w(0)"
      ],
      "metadata": {
        "colab": {
          "base_uri": "https://localhost:8080/"
        },
        "id": "YsnZDGMzXprk",
        "outputId": "5474cfc1-2fdb-4720-8c52-4a4ac7b4dba1"
      },
      "execution_count": null,
      "outputs": [
        {
          "output_type": "execute_result",
          "data": {
            "text/plain": [
              "1"
            ]
          },
          "metadata": {},
          "execution_count": 9
        }
      ]
    },
    {
      "cell_type": "code",
      "source": [
        "def cartesian_distance(x1,y1,x2,y2):\n",
        "  distance = ((x2 - x1)**2 + (y2 - y1)**2) ** (1/2)\n",
        "  return distance"
      ],
      "metadata": {
        "id": "HKnOJ_KmXpn8"
      },
      "execution_count": null,
      "outputs": []
    },
    {
      "cell_type": "code",
      "source": [
        "cartesian_distance(0,20,0,0)"
      ],
      "metadata": {
        "colab": {
          "base_uri": "https://localhost:8080/"
        },
        "id": "mw8GwB_iXplb",
        "outputId": "a4593915-15f6-4b5c-b9c0-4a884ba4f323"
      },
      "execution_count": null,
      "outputs": [
        {
          "output_type": "execute_result",
          "data": {
            "text/plain": [
              "20.0"
            ]
          },
          "metadata": {},
          "execution_count": 7
        }
      ]
    }
  ]
}