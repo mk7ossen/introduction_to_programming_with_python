{
  "nbformat": 4,
  "nbformat_minor": 0,
  "metadata": {
    "colab": {
      "provenance": [],
      "authorship_tag": "ABX9TyPt9WV1gqdqZwRBIJu/4YgQ",
      "include_colab_link": true
    },
    "kernelspec": {
      "name": "python3",
      "display_name": "Python 3"
    },
    "language_info": {
      "name": "python"
    }
  },
  "cells": [
    {
      "cell_type": "markdown",
      "metadata": {
        "id": "view-in-github",
        "colab_type": "text"
      },
      "source": [
        "<a href=\"https://colab.research.google.com/github/mk7ossen/introduction_to_programming_with_python/blob/main/09_HW.ipynb\" target=\"_parent\"><img src=\"https://colab.research.google.com/assets/colab-badge.svg\" alt=\"Open In Colab\"/></a>"
      ]
    },
    {
      "cell_type": "code",
      "source": [
        "# Finalized\n",
        "number_of_students = int(input(\"Enter the number of students: \"))\n",
        "students_grades_list = []\n",
        "\n",
        "\n",
        "for students in range(number_of_students):\n",
        "\n",
        "  student_name = input(f'Enter the name of student {students + 1}: ')\n",
        "  grades = input(f'Enter the grades for {student_name} (separated by spaces): ')\n",
        "\n",
        "  grade_points = list(map(float, grades.split()))\n",
        "  student_profile = [student_name, grade_points]\n",
        "  students_grades_list.append(student_profile)\n",
        "\n",
        "print(\"\\n\\n\")\n",
        "\n",
        "\n",
        "for item in students_grades_list:\n",
        "\n",
        "  print(item)\n",
        "  student_name = item[0]\n",
        "  grade_points = item[1]\n",
        "\n",
        "  def calculate_average():\n",
        "    avg_grade = sum(grade_points) / len(grade_points)\n",
        "    return avg_grade\n",
        "\n",
        "  def determine_pass_fail():\n",
        "    avg_grade = sum(grade_points) / len(grade_points)\n",
        "    if avg_grade > 60:\n",
        "      status = \"Pass\"\n",
        "    else:\n",
        "      status = \"Fail\"\n",
        "    return status\n",
        "\n",
        "  def find_highest_lowest():\n",
        "    highest = max(grade_points)\n",
        "    lowest = min(grade_points)\n",
        "    high_low_tuple = (highest, lowest)\n",
        "    return high_low_tuple\n",
        "\n",
        "  print(f'Student: {student_name}')\n",
        "  print(f'Average Grade: {calculate_average()}')\n",
        "  print(f'Status: {determine_pass_fail()}')\n",
        "  print(f'Highest Grade: {find_highest_lowest()[0]}')\n",
        "  print(f'Lowest Grade: {find_highest_lowest()[1]}')\n",
        "  print(\"\\n\\n\")"
      ],
      "metadata": {
        "colab": {
          "base_uri": "https://localhost:8080/"
        },
        "id": "dqVAM9Eale7Y",
        "outputId": "db2efb73-eb54-4e0c-86fb-5353816d039c"
      },
      "execution_count": null,
      "outputs": [
        {
          "output_type": "stream",
          "name": "stdout",
          "text": [
            "Enter the number of students: 3\n",
            "Enter the name of student 1: rakesh\n",
            "Enter the grades for rakesh (separated by spaces): 30 40 50 23 21 54\n",
            "Enter the name of student 2: jogesh\n",
            "Enter the grades for jogesh (separated by spaces): 78 86 75 90 87 60 68 94\n",
            "Enter the name of student 3: ratul\n",
            "Enter the grades for ratul (separated by spaces): 56 76 87 56 76 99 87 56\n",
            "\n",
            "\n",
            "\n",
            "['rakesh', [30.0, 40.0, 50.0, 23.0, 21.0, 54.0]]\n",
            "Student: rakesh\n",
            "Average Grade: 36.333333333333336\n",
            "Status: Fail\n",
            "Highest Grade: 54.0\n",
            "Lowest Grade: 21.0\n",
            "\n",
            "\n",
            "\n",
            "['jogesh', [78.0, 86.0, 75.0, 90.0, 87.0, 60.0, 68.0, 94.0]]\n",
            "Student: jogesh\n",
            "Average Grade: 79.75\n",
            "Status: Pass\n",
            "Highest Grade: 94.0\n",
            "Lowest Grade: 60.0\n",
            "\n",
            "\n",
            "\n",
            "['ratul', [56.0, 76.0, 87.0, 56.0, 76.0, 99.0, 87.0, 56.0]]\n",
            "Student: ratul\n",
            "Average Grade: 74.125\n",
            "Status: Pass\n",
            "Highest Grade: 99.0\n",
            "Lowest Grade: 56.0\n",
            "\n",
            "\n",
            "\n"
          ]
        }
      ]
    },
    {
      "cell_type": "code",
      "source": [
        "for item in students_grades_list:\n",
        "\n",
        "  print(item)\n",
        "  student_name = item[0]\n",
        "  grade_points = item[1]\n",
        "\n",
        "  def calculate_average():\n",
        "    avg_grade = sum(grade_points) / len(grade_points)\n",
        "    return avg_grade\n",
        "\n",
        "  def determine_pass_fail():\n",
        "    avg_grade = sum(grade_points) / len(grade_points)\n",
        "    if avg_grade > 60:\n",
        "      status = \"Pass\"\n",
        "    else:\n",
        "      status = \"Fail\"\n",
        "    return status\n",
        "\n",
        "  def find_highest_lowest():\n",
        "    highest = max(grade_points)\n",
        "    lowest = min(grade_points)\n",
        "    high_low_tuple = (highest, lowest)\n",
        "    return high_low_tuple\n",
        "\n",
        "  print(f'Student: {student_name}')\n",
        "  print(f'Average Grade: {calculate_average()}')\n",
        "  print(f'Status: {determine_pass_fail()}')\n",
        "  print(f'Highest Grade: {find_highest_lowest()[0]}')\n",
        "  print(f'Lowest Grade: {find_highest_lowest()[1]}')\n",
        "  print(\"\\n\\n\")"
      ],
      "metadata": {
        "colab": {
          "base_uri": "https://localhost:8080/"
        },
        "id": "s7zkUlw6re6m",
        "outputId": "184edb78-01be-4161-bbe7-b182d4202c81"
      },
      "execution_count": null,
      "outputs": [
        {
          "output_type": "stream",
          "name": "stdout",
          "text": [
            "['Tomy', [30.0, 40.0, 50.0, 23.0, 21.0, 54.0]]\n",
            "Student: Tomy\n",
            "Average Grade: 36.333333333333336\n",
            "Status: Fail\n",
            "Highest Grade: 54.0\n",
            "Lowest Grade: 21.0\n",
            "\n",
            "\n",
            "\n",
            "['Jimy', [78.0, 86.0, 75.0, 90.0, 87.0, 60.0, 68.0, 94.0]]\n",
            "Student: Jimy\n",
            "Average Grade: 79.75\n",
            "Status: Pass\n",
            "Highest Grade: 94.0\n",
            "Lowest Grade: 60.0\n",
            "\n",
            "\n",
            "\n",
            "['Tulona', [34.0, 54.0, 64.0, 75.0, 76.0, 88.0]]\n",
            "Student: Tulona\n",
            "Average Grade: 65.16666666666667\n",
            "Status: Pass\n",
            "Highest Grade: 88.0\n",
            "Lowest Grade: 34.0\n",
            "\n",
            "\n",
            "\n",
            "['Ratul', [56.0, 76.0, 87.0, 56.0, 76.0, 99.0, 87.0, 56.0]]\n",
            "Student: Ratul\n",
            "Average Grade: 74.125\n",
            "Status: Pass\n",
            "Highest Grade: 99.0\n",
            "Lowest Grade: 56.0\n",
            "\n",
            "\n",
            "\n",
            "['Nahid', [45.0, 67.0, 87.0, 56.0, 45.0, 78.0, 99.0, 80.0]]\n",
            "Student: Nahid\n",
            "Average Grade: 69.625\n",
            "Status: Pass\n",
            "Highest Grade: 99.0\n",
            "Lowest Grade: 45.0\n",
            "\n",
            "\n",
            "\n"
          ]
        }
      ]
    },
    {
      "cell_type": "code",
      "source": [],
      "metadata": {
        "id": "xW3xQBV-res3"
      },
      "execution_count": null,
      "outputs": []
    },
    {
      "cell_type": "code",
      "source": [],
      "metadata": {
        "id": "aDnZDqWareHd"
      },
      "execution_count": null,
      "outputs": []
    },
    {
      "cell_type": "code",
      "execution_count": null,
      "metadata": {
        "colab": {
          "base_uri": "https://localhost:8080/"
        },
        "id": "5LFVEWVC4c9v",
        "outputId": "176df653-22a4-43a7-9148-7fe3b02daf43"
      },
      "outputs": [
        {
          "output_type": "stream",
          "name": "stdout",
          "text": [
            "Enter the number of students: 2\n",
            "Enter the name of student 1: rakesh\n",
            "Enter the grades for rakesh (separated by spaces): 40 59 70 80 90 95\n",
            "Student: rakesh\n",
            "Average Grade: 72.33333333333333\n",
            "Status: Pass\n",
            "Highest Grade: 95.0\n",
            "Lowest Grade: 40.0\n",
            "Enter the name of student 2: tipu\n",
            "Enter the grades for tipu (separated by spaces): 60 70 87 68 90 98\n",
            "Student: tipu\n",
            "Average Grade: 78.83333333333333\n",
            "Status: Pass\n",
            "Highest Grade: 98.0\n",
            "Lowest Grade: 60.0\n"
          ]
        }
      ],
      "source": [
        "number_of_students = int(input(\"Enter the number of students: \"))\n",
        "for students in range(number_of_students):\n",
        "  student_name = input(f'Enter the name of student {students + 1}: ')\n",
        "  grades = input(f'Enter the grades for {student_name} (separated by spaces): ')\n",
        "\n",
        "  grade_points = map(float, grades.split())\n",
        "  grade_points = list(grade_points)\n",
        "\n",
        "\n",
        "\n",
        "  avg_grade = sum(grade_points) / len(grade_points)\n",
        "  if avg_grade > 60:\n",
        "    status = \"Pass\"\n",
        "  else:\n",
        "    status = \"Fail\"\n",
        "\n",
        "  print(f\"Student: {student_name}\")\n",
        "  print(f\"Average Grade: {avg_grade}\")\n",
        "  print(f\"Status: {status}\")\n",
        "  print(f\"Highest Grade: {max(grade_points)}\")\n",
        "  print(f\"Lowest Grade: {min(grade_points)}\")\n",
        "\n"
      ]
    },
    {
      "cell_type": "code",
      "source": [
        "def calculate_average():\n",
        "  avg_grade = sum(grade_points) / len(grade_points)\n",
        "  return avg_grade\n"
      ],
      "metadata": {
        "id": "YfLPVuPiSPaf"
      },
      "execution_count": null,
      "outputs": []
    },
    {
      "cell_type": "code",
      "source": [
        "def determine_pass_fail():\n",
        "    if avg_grade > 60:\n",
        "    status = \"Pass\"\n",
        "  else:\n",
        "    status = \"Fail\"\n",
        "  return status"
      ],
      "metadata": {
        "id": "Bsc4vLZvVG5w"
      },
      "execution_count": null,
      "outputs": []
    },
    {
      "cell_type": "code",
      "source": [
        "def find_highest():\n",
        "  highest = max(grade_points)\n",
        "  return highest\n",
        "\n",
        "\n",
        "def find_lowest():\n",
        "  lowest = min(grade_points)\n",
        "  return lowest"
      ],
      "metadata": {
        "id": "pBUq-FZ4VURQ"
      },
      "execution_count": null,
      "outputs": []
    },
    {
      "cell_type": "code",
      "source": [
        "calculate_average()"
      ],
      "metadata": {
        "colab": {
          "base_uri": "https://localhost:8080/"
        },
        "id": "3f45ljWtSPQI",
        "outputId": "e135481f-7f00-4e15-dc2f-0dfc8696f85f"
      },
      "execution_count": null,
      "outputs": [
        {
          "output_type": "execute_result",
          "data": {
            "text/plain": [
              "78.83333333333333"
            ]
          },
          "metadata": {},
          "execution_count": 32
        }
      ]
    },
    {
      "cell_type": "code",
      "source": [],
      "metadata": {
        "id": "UecFoReLSPKI"
      },
      "execution_count": null,
      "outputs": []
    },
    {
      "cell_type": "code",
      "source": [
        "print(grade_points)"
      ],
      "metadata": {
        "id": "Q9V-Y1v875W8",
        "colab": {
          "base_uri": "https://localhost:8080/"
        },
        "outputId": "0f8783c3-3741-4525-f16f-1cacabb4c38b"
      },
      "execution_count": null,
      "outputs": [
        {
          "output_type": "stream",
          "name": "stdout",
          "text": [
            "[34.0, 57.0, 68.0, 90.0, 56.0]\n"
          ]
        }
      ]
    },
    {
      "cell_type": "code",
      "source": [
        "grades = input(f'Enter the grades for {student_name} (separated by spaces): ')"
      ],
      "metadata": {
        "colab": {
          "base_uri": "https://localhost:8080/"
        },
        "id": "URA19cLf75HD",
        "outputId": "d37bdb7c-78a7-4533-cc15-332f0c15536a"
      },
      "execution_count": null,
      "outputs": [
        {
          "name": "stdout",
          "output_type": "stream",
          "text": [
            "Enter the grades for  (separated by spaces): 80 75 70 65\n"
          ]
        }
      ]
    },
    {
      "cell_type": "code",
      "source": [
        "grade_points = grades.split()\n",
        "grade_points\n",
        "list_length = len(grade_points)\n",
        "for i in range(list_length):\n",
        "\n",
        "# x = float(grades[0])\n",
        "# y = float(grades[1])\n"
      ],
      "metadata": {
        "colab": {
          "base_uri": "https://localhost:8080/"
        },
        "id": "N8HT9axo744t",
        "outputId": "67e1ad71-7987-4b5b-bb7e-70c1b29c9d71"
      },
      "execution_count": null,
      "outputs": [
        {
          "output_type": "execute_result",
          "data": {
            "text/plain": [
              "['80', '75', '70', '65']"
            ]
          },
          "metadata": {},
          "execution_count": 23
        }
      ]
    },
    {
      "cell_type": "code",
      "source": [
        "# name_grades_dict = { f\"{student_name}\": f\"{grades}\", }\n",
        "# print(name_grades_dict)"
      ],
      "metadata": {
        "colab": {
          "base_uri": "https://localhost:8080/"
        },
        "id": "zCgtTIMlJzRw",
        "outputId": "6246785c-bbe0-48d2-f3bc-2b0e8d954fcd"
      },
      "execution_count": null,
      "outputs": [
        {
          "output_type": "stream",
          "name": "stdout",
          "text": [
            "{'tipu': '60 70 87 68 90 98'}\n"
          ]
        }
      ]
    },
    {
      "cell_type": "code",
      "source": [
        "number_of_students = int(input(\"Enter the number of students: \"))\n",
        "for students in range(number_of_students):\n",
        "  student_name = input(f'Enter the name of student {students + 1}: ')\n",
        "  grades = input(f'Enter the grades for {student_name} (separated by spaces): ')\n",
        "\n",
        "  grade_points = map(float, grades.split())\n",
        "  grade_points = list(grade_points)\n",
        "\n",
        "  name_grades_list = []\n",
        "  student_name + students \"_results\" = {f\"{student_name}\": f\"{grade_points}\"}\n",
        "  name_grades_list.append(student_name + students \"_results\")\n",
        "print(len(name_grades_list))\n",
        "print()\n",
        "  def calculate_average():\n",
        "  avg_grade = sum(grade_points) / len(grade_points)\n",
        "  return avg_grade\n",
        "\n",
        "  def determine_pass_fail():\n",
        "    if avg_grade > 60:\n",
        "      status = \"Pass\"\n",
        "    else:\n",
        "      status = \"Fail\"\n",
        "    return status\n",
        "\n",
        "  def find_highest():\n",
        "    highest = max(grade_points)\n",
        "    return highest\n",
        "\n",
        "\n",
        "  def find_lowest():\n",
        "    lowest = min(grade_points)\n",
        "    return lowest"
      ],
      "metadata": {
        "id": "3iVBko1sZA8g"
      },
      "execution_count": null,
      "outputs": []
    },
    {
      "cell_type": "code",
      "source": [
        "number_of_students = int(input(\"Enter the number of students: \"))\n",
        "name_grades_list = []\n",
        "for students in range(number_of_students):\n",
        "  student_name = input(f'Enter the name of student {students + 1}: ')\n",
        "  grades = input(f'Enter the grades for {student_name} (separated by spaces): ')\n",
        "\n",
        "  grade_points = map(float, grades.split())\n",
        "  grade_points = list(grade_points)\n",
        "\n",
        "  # dynamic_student_name = student_name\n",
        "  dynamic_student_name = {f\"{student_name}\": f\"{grade_points}\"}\n",
        "  name_grades_list.append(dynamic_student_name)\n",
        "\n",
        "print(len(name_grades_list))\n",
        "print(name_grades_list)\n",
        "print(dynamic_student_name)"
      ],
      "metadata": {
        "id": "xTFo8NGRdhNf",
        "colab": {
          "base_uri": "https://localhost:8080/"
        },
        "outputId": "e56ed592-6405-49fe-d99e-347edf070704"
      },
      "execution_count": null,
      "outputs": [
        {
          "output_type": "stream",
          "name": "stdout",
          "text": [
            "Enter the number of students: 4\n",
            "Enter the name of student 1: robin\n",
            "Enter the grades for robin (separated by spaces): 30 40 50 23 21 54\n",
            "Enter the name of student 2: ratin\n",
            "Enter the grades for ratin (separated by spaces): 78 86 75 90 87 60 68 94\n",
            "Enter the name of student 3: josef\n",
            "Enter the grades for josef (separated by spaces): 34 54 64 75 76 88\n",
            "Enter the name of student 4: angela\n",
            "Enter the grades for angela (separated by spaces): 45 67 87 56 45 78 99 80\n",
            "4\n",
            "[{'robin': '[30.0, 40.0, 50.0, 23.0, 21.0, 54.0]'}, {'ratin': '[78.0, 86.0, 75.0, 90.0, 87.0, 60.0, 68.0, 94.0]'}, {'josef': '[34.0, 54.0, 64.0, 75.0, 76.0, 88.0]'}, {'angela': '[45.0, 67.0, 87.0, 56.0, 45.0, 78.0, 99.0, 80.0]'}]\n",
            "{'angela': '[45.0, 67.0, 87.0, 56.0, 45.0, 78.0, 99.0, 80.0]'}\n"
          ]
        }
      ]
    },
    {
      "cell_type": "code",
      "source": [
        "for i in name_grades_list:\n",
        "\n",
        "  print(i)\n",
        "print()\n",
        "print()\n",
        "print()\n",
        "print()\n",
        "\n",
        "\n",
        "\"\"\"\n",
        "  def calculate_average():\n",
        "    avg_grade = sum(grade_points) / len(grade_points)\n",
        "    return avg_grade\n",
        "\n",
        "  def determine_pass_fail():\n",
        "    if avg_grade > 60:\n",
        "      status = \"Pass\"\n",
        "    else:\n",
        "      status = \"Fail\"\n",
        "    return status\n",
        "\n",
        "  def find_highest():\n",
        "    highest = max(grade_points)\n",
        "    return highest\n",
        "\n",
        "\n",
        "  def find_lowest():\n",
        "    lowest = min(grade_points)\n",
        "    return lowest\n",
        "\n",
        "  print(f'Student: {student_name}')\n",
        "  print(f'Average Grade: {calculate_average}')\n",
        "  print(f'Status: {determine_pass_fail}')\n",
        "  print(f'Highest Grade: {find_highest}')\n",
        "  print(f'Lowest Grade: {find_lowest}')\n",
        "  \"\"\""
      ],
      "metadata": {
        "colab": {
          "base_uri": "https://localhost:8080/",
          "height": 209
        },
        "id": "wCRiqG8oU1yd",
        "outputId": "eae71bfe-b496-45e2-f6e2-4ff3bdcec41d"
      },
      "execution_count": null,
      "outputs": [
        {
          "output_type": "stream",
          "name": "stdout",
          "text": [
            "{'robin': '[30.0, 40.0, 50.0, 23.0, 21.0, 54.0]'}\n",
            "{'ratin': '[78.0, 86.0, 75.0, 90.0, 87.0, 60.0, 68.0, 94.0]'}\n",
            "{'josef': '[34.0, 54.0, 64.0, 75.0, 76.0, 88.0]'}\n",
            "{'angela': '[45.0, 67.0, 87.0, 56.0, 45.0, 78.0, 99.0, 80.0]'}\n",
            "\n",
            "\n",
            "\n",
            "\n"
          ]
        },
        {
          "output_type": "execute_result",
          "data": {
            "text/plain": [
              "'\\n  def calculate_average():\\n    avg_grade = sum(grade_points) / len(grade_points)\\n    return avg_grade\\n\\n  def determine_pass_fail():\\n    if avg_grade > 60:\\n      status = \"Pass\"\\n    else:\\n      status = \"Fail\"\\n    return status\\n\\n  def find_highest():\\n    highest = max(grade_points)\\n    return highest\\n\\n\\n  def find_lowest():\\n    lowest = min(grade_points)\\n    return lowest\\n\\n  print(f\\'Student: {student_name}\\')\\n  print(f\\'Average Grade: {calculate_average}\\')\\n  print(f\\'Status: {determine_pass_fail}\\')\\n  print(f\\'Highest Grade: {find_highest}\\')\\n  print(f\\'Lowest Grade: {find_lowest}\\')\\n  '"
            ],
            "application/vnd.google.colaboratory.intrinsic+json": {
              "type": "string"
            }
          },
          "metadata": {},
          "execution_count": 48
        }
      ]
    },
    {
      "cell_type": "code",
      "source": [
        "number_of_students = int(input(\"Enter the number of students: \"))\n",
        "for students in range(number_of_students):\n",
        "  student_name = input(f'Enter the name of student {students + 1}: ')\n",
        "  grades = input(f'Enter the grades for {student_name} (separated by spaces): ')\n",
        "\n",
        "  grade_points = map(float, grades.split())\n",
        "  grade_points = list(grade_points)\n",
        "\n",
        "  name_grades_list = []\n",
        "  # dynamic_student_name = student_name\n",
        "  dynamic_student_name = {f\"{student_name}\": f\"{grade_points}\"}\n",
        "  name_grades_list = name_grades_list.append(dynamic_student_name)\n",
        "\n",
        "# print(len(name_grades_list))\n",
        "print(name_grades_list)\n",
        "print(dynamic_student_name)"
      ],
      "metadata": {
        "id": "yOFf93yfswXg"
      },
      "execution_count": null,
      "outputs": []
    }
  ]
}