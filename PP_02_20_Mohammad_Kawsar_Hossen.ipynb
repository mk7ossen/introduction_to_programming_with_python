{
  "nbformat": 4,
  "nbformat_minor": 0,
  "metadata": {
    "colab": {
      "provenance": [],
      "authorship_tag": "ABX9TyOVsywoQsFIDSAM/ktUUGgB",
      "include_colab_link": true
    },
    "kernelspec": {
      "name": "python3",
      "display_name": "Python 3"
    },
    "language_info": {
      "name": "python"
    }
  },
  "cells": [
    {
      "cell_type": "markdown",
      "metadata": {
        "id": "view-in-github",
        "colab_type": "text"
      },
      "source": [
        "<a href=\"https://colab.research.google.com/github/mk7ossen/introduction_to_programming_with_python/blob/main/PP_02_20_Mohammad_Kawsar_Hossen.ipynb\" target=\"_parent\"><img src=\"https://colab.research.google.com/assets/colab-badge.svg\" alt=\"Open In Colab\"/></a>"
      ]
    },
    {
      "cell_type": "markdown",
      "source": [
        "##Question No. 1"
      ],
      "metadata": {
        "id": "4ecVVqz6NgrM"
      }
    },
    {
      "cell_type": "code",
      "execution_count": null,
      "metadata": {
        "colab": {
          "base_uri": "https://localhost:8080/"
        },
        "id": "1rd0snb_I1G3",
        "outputId": "1d19115a-eacb-4e08-c28e-18b4e52e9617"
      },
      "outputs": [
        {
          "output_type": "stream",
          "name": "stdout",
          "text": [
            "Enter your name: Javed\n",
            "Enter your age: 34\n",
            "Hello, Javed!\n",
            "You are 34 years old.\n",
            "In 10 years, you will be 44 years old.\n"
          ]
        }
      ],
      "source": [
        "#Get user input\n",
        "user_name = input(\"Enter your name: \") # here variable name is corrected\n",
        "user_age = input(\"Enter your age: \")\n",
        "\n",
        "# print the user details , here commentig is corrected\n",
        "print(\"Hello, \" + user_name + \"!\")\n",
        "print(\"You are \" + user_age + \" years old.\")\n",
        "\n",
        "\"\"\" Calculate and print the age in 10 years \"\"\" #here commentig is corrected\n",
        "age_in_10_years = int(user_age) + 10    # type casting is done\n",
        "print(\"In 10 years, you will be \" + str(age_in_10_years) + \" years old.\")  # type casting is done\n",
        "\n",
        "\n"
      ]
    },
    {
      "cell_type": "markdown",
      "source": [
        "##Question No. 2"
      ],
      "metadata": {
        "id": "QX1yCGTINsHT"
      }
    },
    {
      "cell_type": "code",
      "source": [
        "#1\n",
        "user_input = input(\"Enter your desired string: \")\n",
        "\n",
        "#2\n",
        "user_input_with_no_space = user_input.strip()\n",
        "print(user_input_with_no_space)\n",
        "\n",
        "#3\n",
        "user_input_word_count = user_input.split()\n",
        "print(user_input_word_count)\n",
        "print(f\" The user input has {len(user_input_word_count)} words.\")\n",
        "\n",
        "#4\n",
        "user_input = user_input.title()\n",
        "print(user_input)\n",
        "\n",
        "#5\n",
        "print(user_input_with_no_space[0:5])\n",
        "\n",
        "#6\n",
        "for char in user_input:\n",
        "  if char == \".\":\n",
        "    print(\"A perfect sentence!\")"
      ],
      "metadata": {
        "colab": {
          "base_uri": "https://localhost:8080/"
        },
        "id": "1iYlI_m1NffE",
        "outputId": "6ce56f82-b53c-49bb-bcc9-3d94912cc8a4"
      },
      "execution_count": null,
      "outputs": [
        {
          "output_type": "stream",
          "name": "stdout",
          "text": [
            "Enter your desired string:        long long ago there was  a big lion in here.       \n",
            "long long ago there was  a big lion in here.\n",
            "['long', 'long', 'ago', 'there', 'was', 'a', 'big', 'lion', 'in', 'here.']\n",
            " The user input has 10 words.\n",
            "       Long Long Ago There Was  A Big Lion In Here.       \n",
            "long \n",
            "A perfect sentence!\n"
          ]
        }
      ]
    },
    {
      "cell_type": "markdown",
      "source": [
        "##Question No. 3"
      ],
      "metadata": {
        "id": "Kl24bx9FOpLk"
      }
    },
    {
      "cell_type": "code",
      "source": [
        "size = 5\n",
        "for i in range(size):\n",
        "  for j in range(size):\n",
        "    if i == 0 or i == size -1 or j == 0 or j == size - 1:\n",
        "      print(\"*\", end=\" \")\n",
        "    else:\n",
        "      print(\" \", end=\" \")\n",
        "  print()"
      ],
      "metadata": {
        "colab": {
          "base_uri": "https://localhost:8080/"
        },
        "id": "5uXp9lulOwRz",
        "outputId": "87be63a1-90cd-4417-9e99-b9aaccd35578"
      },
      "execution_count": null,
      "outputs": [
        {
          "output_type": "stream",
          "name": "stdout",
          "text": [
            "* * * * * \n",
            "*       * \n",
            "*       * \n",
            "*       * \n",
            "* * * * * \n"
          ]
        }
      ]
    },
    {
      "cell_type": "markdown",
      "source": [],
      "metadata": {
        "id": "X_kpbpxNZw78"
      }
    },
    {
      "cell_type": "markdown",
      "source": [
        "## Printing a Triangle"
      ],
      "metadata": {
        "id": "DFcE0OQvcBiC"
      }
    },
    {
      "cell_type": "code",
      "source": [
        "for i in range(4):\n",
        "  for j in range(4):\n",
        "    if i < j or i == j:\n",
        "      print(\" * \", end=\"\")\n",
        "  print()\n",
        "\n",
        "#Done"
      ],
      "metadata": {
        "colab": {
          "base_uri": "https://localhost:8080/"
        },
        "id": "BJBiPuLya6Ur",
        "outputId": "61c9958d-22f0-450e-bd13-b6c282ee2c10"
      },
      "execution_count": null,
      "outputs": [
        {
          "output_type": "stream",
          "name": "stdout",
          "text": [
            " *  *  *  * \n",
            " *  *  * \n",
            " *  * \n",
            " * \n"
          ]
        }
      ]
    }
  ]
}