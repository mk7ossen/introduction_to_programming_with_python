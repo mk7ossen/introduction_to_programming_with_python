{
  "nbformat": 4,
  "nbformat_minor": 0,
  "metadata": {
    "colab": {
      "provenance": [],
      "authorship_tag": "ABX9TyMGnozpZ3xUKtT17bkom4lA",
      "include_colab_link": true
    },
    "kernelspec": {
      "name": "python3",
      "display_name": "Python 3"
    },
    "language_info": {
      "name": "python"
    }
  },
  "cells": [
    {
      "cell_type": "markdown",
      "metadata": {
        "id": "view-in-github",
        "colab_type": "text"
      },
      "source": [
        "<a href=\"https://colab.research.google.com/github/mk7ossen/introduction_to_programming_with_python/blob/main/PP_02_20_Mohammad_Kawsar_Hossen_final_exam.ipynb\" target=\"_parent\"><img src=\"https://colab.research.google.com/assets/colab-badge.svg\" alt=\"Open In Colab\"/></a>"
      ]
    },
    {
      "cell_type": "markdown",
      "source": [
        "##Question 1\n"
      ],
      "metadata": {
        "id": "_7LRJ3FVHKPz"
      }
    },
    {
      "cell_type": "code",
      "execution_count": null,
      "metadata": {
        "colab": {
          "base_uri": "https://localhost:8080/"
        },
        "id": "ts_GXmpkGyve",
        "outputId": "9fa90db0-1291-4c69-a1e2-4c6c8a80d89d"
      },
      "outputs": [
        {
          "name": "stdout",
          "output_type": "stream",
          "text": [
            "Enter your score: 101\n"
          ]
        }
      ],
      "source": [
        "employee_score = int(input(\"Enter your score: \"))\n",
        "\n",
        "if (employee_score >= 90) and (employee_score <= 100):\n",
        "  print(\"Your score is excellent\")\n",
        "\n",
        "elif (employee_score >= 80) and (employee_score <= 89):\n",
        "  print(\"Your score is very good\")\n",
        "\n",
        "elif (employee_score >= 70) and (employee_score <= 79):\n",
        "  print(\"Your score is good\")\n",
        "\n",
        "elif (employee_score >= 60) and (employee_score <= 69):\n",
        "  print(\"Your score is satisfactory\")\n",
        "\n",
        "elif employee_score < 60:\n",
        "  print(\"Needs Improvement\")\n",
        "\n"
      ]
    },
    {
      "cell_type": "markdown",
      "source": [
        "##Question 2"
      ],
      "metadata": {
        "id": "FCRm1AoEKr8q"
      }
    },
    {
      "cell_type": "code",
      "source": [
        "\n",
        "#a\n",
        "\n",
        "while True:\n",
        "    try:\n",
        "#b\n",
        "        n = int(input(\"Enter a positive integer: \"))\n",
        "        print()\n",
        "        if n <= 0:\n",
        "#d\n",
        "            print(\"Invalid input. Please enter a positive integer.\")\n",
        "            print()\n",
        "            continue\n",
        "\n",
        "        sum_of_odds = 0\n",
        "        i = 1\n",
        "        while i <= n:\n",
        "            if i % 2 != 0:\n",
        "                sum_of_odds += i\n",
        "            i += 1\n",
        "\n",
        "#c\n",
        "        print(f\"The sum of all odd numbers between 1 and {n} is: {sum_of_odds}\")\n",
        "        print()\n",
        "        break\n",
        "    except ValueError:\n",
        "        print(\"Invalid input. Please enter a valid positive integer.\")\n"
      ],
      "metadata": {
        "colab": {
          "base_uri": "https://localhost:8080/"
        },
        "id": "U0ZdAoqzKwAY",
        "outputId": "c8e94abf-d49c-4674-d99d-bd4247692c59"
      },
      "execution_count": null,
      "outputs": [
        {
          "output_type": "stream",
          "name": "stdout",
          "text": [
            "Enter a positive integer: -10\n",
            "\n",
            "Invalid input. Please enter a positive integer.\n",
            "\n",
            "Enter a positive integer: 10\n",
            "\n",
            "The sum of all odd numbers between 1 and 10 is: 25\n",
            "\n"
          ]
        }
      ]
    },
    {
      "cell_type": "markdown",
      "source": [
        "\n",
        "##Question 3"
      ],
      "metadata": {
        "id": "tWQJ9Gk7SA21"
      }
    },
    {
      "cell_type": "code",
      "source": [
        "#a\n",
        " # we import the re package when working with Regular Expression\n",
        "\n",
        "\n",
        "#b\n",
        "import re\n",
        "\n",
        "x = \"banana\"\n",
        "positions = [m.start() for m in re.finditer('a', x)]\n",
        "print(\"Positions of 'a':\", positions)\n",
        "\n",
        "\n",
        "#c\n",
        "y = \"Life is what happens when you're busy making other plans\"\n",
        "new_string = re.sub(r'\\bwhat\\b', 'where', y)\n",
        "print(\"Modified string:\", new_string)"
      ],
      "metadata": {
        "colab": {
          "base_uri": "https://localhost:8080/"
        },
        "id": "3SaxxQU7R_6X",
        "outputId": "3945adb3-f698-4c74-ccaa-9d0f5bed5ce0"
      },
      "execution_count": null,
      "outputs": [
        {
          "output_type": "stream",
          "name": "stdout",
          "text": [
            "Positions of 'a': [1, 3, 5]\n",
            "Modified string: Life is where happens when you're busy making other plans\n"
          ]
        }
      ]
    },
    {
      "cell_type": "markdown",
      "source": [
        "##Question 4"
      ],
      "metadata": {
        "id": "_9LGinlTOmyH"
      }
    },
    {
      "cell_type": "code",
      "source": [
        "import os\n",
        "\n",
        "#a\n",
        "with open(\"notes.txt\", \"w\") as file:\n",
        "    file.write(\"\")\n",
        "print(\"File 'notes.txt' created.\")\n",
        "\n",
        "#b\n",
        "with open(\"notes.txt\", \"a\") as file:\n",
        "    file.write(\"Programming is an essential skill in today's world.\\n\")\n",
        "\n",
        "\n",
        "with open(\"notes.txt\", \"r\") as file:\n",
        "    content = file.read()\n",
        "print(\"\\nContents of 'notes.txt':\")\n",
        "print(content)\n",
        "\n",
        "#c\n",
        "if os.path.exists(\"notes.txt\"):\n",
        "    os.remove(\"notes.txt\")\n",
        "    print(\"\\nFile 'notes.txt' deleted.\")\n",
        "else:\n",
        "    print(\"\\nFile does not exist!\")\n"
      ],
      "metadata": {
        "colab": {
          "base_uri": "https://localhost:8080/"
        },
        "id": "E8QsgexoOln5",
        "outputId": "495d1eb9-d29e-478e-bc28-cf4e5267f57c"
      },
      "execution_count": null,
      "outputs": [
        {
          "output_type": "stream",
          "name": "stdout",
          "text": [
            "File 'notes.txt' created.\n",
            "\n",
            "Contents of 'notes.txt':\n",
            "Programming is an essential skill in today's world.\n",
            "\n",
            "\n",
            "File 'notes.txt' deleted.\n"
          ]
        }
      ]
    },
    {
      "cell_type": "markdown",
      "source": [
        "Question 5"
      ],
      "metadata": {
        "id": "8tQ_Xwm8OHOI"
      }
    },
    {
      "cell_type": "code",
      "source": [
        "import numpy as np\n",
        "\n",
        "#a\n",
        "array = np.random.randint(5, 16, size=(3, 3))\n",
        "print(\"Original Array:\")\n",
        "print(array)\n",
        "\n",
        "#b\n",
        "transpose_array = array.T\n",
        "print(\"\\nTranspose of the Array:\")\n",
        "print(transpose_array)\n",
        "\n",
        "#c\n",
        "sum_elements = np.sum(array)\n",
        "print(\"\\nSum of all elements in the array:\", sum_elements)\n",
        "\n",
        "#d\n",
        "indices = np.argwhere(array > 10)\n",
        "print(\"\\nIndices of elements greater than 10:\")\n",
        "print(indices)\n"
      ],
      "metadata": {
        "colab": {
          "base_uri": "https://localhost:8080/"
        },
        "id": "FZ6XadxlOJsf",
        "outputId": "d6ca53dd-c38d-4a97-c774-a0e09b4c901b"
      },
      "execution_count": null,
      "outputs": [
        {
          "output_type": "stream",
          "name": "stdout",
          "text": [
            "Original Array:\n",
            "[[ 7 11  6]\n",
            " [14 15 10]\n",
            " [12 15  5]]\n",
            "\n",
            "Transpose of the Array:\n",
            "[[ 7 14 12]\n",
            " [11 15 15]\n",
            " [ 6 10  5]]\n",
            "\n",
            "Sum of all elements in the array: 95\n",
            "\n",
            "Indices of elements greater than 10:\n",
            "[[0 1]\n",
            " [1 0]\n",
            " [1 1]\n",
            " [2 0]\n",
            " [2 1]]\n"
          ]
        }
      ]
    }
  ]
}